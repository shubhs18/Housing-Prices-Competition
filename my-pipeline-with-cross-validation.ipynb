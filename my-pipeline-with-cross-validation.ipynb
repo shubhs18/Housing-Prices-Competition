{
 "cells": [
  {
   "cell_type": "code",
   "execution_count": 1,
   "metadata": {
    "_cell_guid": "b1076dfc-b9ad-4769-8c92-a6c4dae69d19",
    "_uuid": "8f2839f25d086af736a60e9eeb907d3b93b6e0e5"
   },
   "outputs": [
    {
     "name": "stdout",
     "output_type": "stream",
     "text": [
      "/kaggle/input/home-data-for-ml-course/train.csv\n",
      "/kaggle/input/home-data-for-ml-course/train.csv.gz\n",
      "/kaggle/input/home-data-for-ml-course/sample_submission.csv.gz\n",
      "/kaggle/input/home-data-for-ml-course/test.csv.gz\n",
      "/kaggle/input/home-data-for-ml-course/test.csv\n",
      "/kaggle/input/home-data-for-ml-course/sample_submission.csv\n",
      "/kaggle/input/home-data-for-ml-course/data_description.txt\n"
     ]
    }
   ],
   "source": [
    "# This Python 3 environment comes with many helpful analytics libraries installed\n",
    "# It is defined by the kaggle/python Docker image: https://github.com/kaggle/docker-python\n",
    "# For example, here's several helpful packages to load\n",
    "\n",
    "import numpy as np # linear algebra\n",
    "import pandas as pd # data processing, CSV file I/O (e.g. pd.read_csv)\n",
    "\n",
    "# Input data files are available in the read-only \"../input/\" directory\n",
    "# For example, running this (by clicking run or pressing Shift+Enter) will list all files under the input directory\n",
    "\n",
    "import os\n",
    "for dirname, _, filenames in os.walk('/kaggle/input'):\n",
    "    for filename in filenames:\n",
    "        print(os.path.join(dirname, filename))\n",
    "\n",
    "# You can write up to 5GB to the current directory (/kaggle/working/) that gets preserved as output when you create a version using \"Save & Run All\" \n",
    "# You can also write temporary files to /kaggle/temp/, but they won't be saved outside of the current session"
   ]
  },
  {
   "cell_type": "code",
   "execution_count": 2,
   "metadata": {
    "_cell_guid": "79c7e3d0-c299-4dcb-8224-4455121ee9b0",
    "_uuid": "d629ff2d2480ee46fbb7e2d37f6b5fab8052498a"
   },
   "outputs": [],
   "source": [
    "from sklearn.compose import ColumnTransformer\n",
    "from sklearn.pipeline import Pipeline\n",
    "from sklearn.impute import SimpleImputer\n",
    "from sklearn.preprocessing import OneHotEncoder\n",
    "from sklearn.ensemble import RandomForestRegressor\n",
    "from sklearn.metrics import mean_absolute_error\n",
    "from sklearn.model_selection import train_test_split,cross_val_score"
   ]
  },
  {
   "cell_type": "code",
   "execution_count": 3,
   "metadata": {},
   "outputs": [],
   "source": [
    "data = pd.read_csv('../input/home-data-for-ml-course/train.csv',index_col='Id')\n",
    "test_data = pd.read_csv('../input/home-data-for-ml-course/test.csv',index_col='Id')\n",
    "\n",
    "data.dropna(subset=['SalePrice'],axis=0,inplace=True)\n",
    "y = data.SalePrice\n",
    "data.drop(['SalePrice'],axis=1,inplace=True)\n",
    "\n",
    "full_X_train,full_X_valid,y_train,y_valid = train_test_split(data,y,train_size=0.8,test_size=0.2)\n",
    "\n",
    "categorical_cols= [ccn for ccn in full_X_train.columns if (full_X_train[ccn].nunique() < 10) and \n",
    "                   (full_X_train[ccn].dtype=='object')]\n",
    "\n",
    "num_cols= [nm for nm in full_X_train.columns if full_X_train[nm].dtype in ['int64','float64']]\n",
    "\n",
    "my_cols= categorical_cols+num_cols\n",
    "X_train = full_X_train[my_cols]\n",
    "X_valid = full_X_valid[my_cols]\n",
    "X_test = test_data[my_cols]"
   ]
  },
  {
   "cell_type": "code",
   "execution_count": 4,
   "metadata": {},
   "outputs": [
    {
     "data": {
      "text/plain": [
       "{50: 18039.879095890414,\n",
       " 100: 17739.860219178085,\n",
       " 150: 17841.915264840183,\n",
       " 200: 17904.729208904108,\n",
       " 250: 17793.217569863013,\n",
       " 300: 17777.563146118722,\n",
       " 350: 17725.896403131115,\n",
       " 400: 17782.97896232876}"
      ]
     },
     "execution_count": 4,
     "metadata": {},
     "output_type": "execute_result"
    }
   ],
   "source": [
    "numerical_transformer = SimpleImputer(strategy='constant')\n",
    "\n",
    "categorical_transformer = Pipeline(steps=[('imputer',SimpleImputer(strategy='constant')),\n",
    "                                         ('OH_encoder',OneHotEncoder(handle_unknown='ignore'))])\n",
    "\n",
    "\n",
    "preprocessor = ColumnTransformer(transformers=[('num_col',numerical_transformer,num_cols),\n",
    "                                               ('cat_col',categorical_transformer,categorical_cols)])\n",
    "\n",
    "\n",
    "def get_score(n_es):\n",
    "    pipe_model= Pipeline(steps=[('prepro',preprocessor),\n",
    "                           ('ran_for',RandomForestRegressor(n_estimators=n_es))])\n",
    "    \n",
    "    scores = -1 * cross_val_score(pipe_model,pd.concat([X_train,X_valid]),pd.concat([y_train,y_valid]),\n",
    "                                 cv=5,\n",
    "                                 scoring='neg_mean_absolute_error')\n",
    "    return scores.mean()\n",
    "\n",
    "\n",
    "results={}\n",
    "for i in range(1,9):\n",
    "    results[50*i]=get_score(50*i)\n",
    "    \n",
    "results\n"
   ]
  },
  {
   "cell_type": "code",
   "execution_count": 5,
   "metadata": {},
   "outputs": [
    {
     "data": {
      "text/plain": [
       "[<matplotlib.lines.Line2D at 0x7fd91ccf5d90>]"
      ]
     },
     "execution_count": 5,
     "metadata": {},
     "output_type": "execute_result"
    },
    {
     "data": {
      "image/png": "[encoded data removed]",
      "text/plain": [
       "<Figure size 432x288 with 1 Axes>"
      ]
     },
     "metadata": {
      "needs_background": "light"
     },
     "output_type": "display_data"
    }
   ],
   "source": [
    "import matplotlib.pyplot as plt\n",
    "%matplotlib inline\n",
    "\n",
    "plt.plot(list(results.keys()),list(results.values()))"
   ]
  },
  {
   "cell_type": "code",
   "execution_count": 6,
   "metadata": {},
   "outputs": [
    {
     "name": "stdout",
     "output_type": "stream",
     "text": [
      "MAE: 7700.35329745597\n"
     ]
    }
   ],
   "source": [
    "pipe_model1= Pipeline(steps=[('prepro',preprocessor),\n",
    "                           ('ran_for',RandomForestRegressor(n_estimators=350))])\n",
    "pipe_model1.fit(pd.concat([X_train,X_valid]),pd.concat([y_train,y_valid]))\n",
    "pred = pipe_model1.predict(X_valid)\n",
    "print(f'MAE: {mean_absolute_error(pred,y_valid)}')\n"
   ]
  },
  {
   "cell_type": "code",
   "execution_count": 7,
   "metadata": {},
   "outputs": [],
   "source": [
    "pred1 = pipe_model1.predict(X_test)\n",
    "\n",
    "subm = pd.DataFrame({'Id':X_test.index,\n",
    "                    'SalePrice':pred1})\n",
    "\n",
    "subm.to_csv('submission.csv',index=False)"
   ]
  },
  {
   "cell_type": "code",
   "execution_count": null,
   "metadata": {},
   "outputs": [],
   "source": []
  }
 ],
 "metadata": {
  "kernelspec": {
   "display_name": "Python 3",
   "language": "python",
   "name": "python3"
  },
  "language_info": {
   "codemirror_mode": {
    "name": "ipython",
    "version": 3
   },
   "file_extension": ".py",
   "mimetype": "text/x-python",
   "name": "python",
   "nbconvert_exporter": "python",
   "pygments_lexer": "ipython3",
   "version": "3.7.6"
  }
 },
 "nbformat": 4,
 "nbformat_minor": 4
}
